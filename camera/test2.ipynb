{
 "cells": [
  {
   "cell_type": "code",
   "execution_count": 1,
   "metadata": {},
   "outputs": [],
   "source": [
    "import requests\n",
    "\n",
    "img_data = requests.get(\"http://10.2.6.215/capture\").content\n",
    "with open('img3.jpg', 'wb') as handler:\n",
    "    handler.write(img_data)"
   ]
  },
  {
   "cell_type": "code",
   "execution_count": 2,
   "metadata": {},
   "outputs": [],
   "source": [
    "imagePath = r'img3.jpg'\n",
    "cascPath = \"haarcascade_frontalface_default.xml\"\n"
   ]
  },
  {
   "cell_type": "code",
   "execution_count": 3,
   "metadata": {},
   "outputs": [
    {
     "name": "stdout",
     "output_type": "stream",
     "text": [
      "Requirement already satisfied: pip in c:\\users\\thaingern\\appdata\\local\\programs\\python\\python310\\lib\\site-packages (23.3.2)\n",
      "Collecting pip\n",
      "  Using cached pip-24.0-py3-none-any.whl.metadata (3.6 kB)\n",
      "Using cached pip-24.0-py3-none-any.whl (2.1 MB)\n"
     ]
    },
    {
     "name": "stderr",
     "output_type": "stream",
     "text": [
      "ERROR: To modify pip, please run the following command:\n",
      "C:\\Users\\thaingern\\AppData\\Local\\Programs\\Python\\Python310\\python.exe -m pip install --upgrade pip\n",
      "\n",
      "[notice] A new release of pip is available: 23.3.2 -> 24.0\n",
      "[notice] To update, run: python.exe -m pip install --upgrade pip\n"
     ]
    }
   ],
   "source": [
    "# !pip install opencv-python\n",
    "! pip install --upgrade pip"
   ]
  },
  {
   "cell_type": "code",
   "execution_count": 4,
   "metadata": {},
   "outputs": [],
   "source": [
    "import cv2"
   ]
  },
  {
   "cell_type": "code",
   "execution_count": 5,
   "metadata": {},
   "outputs": [],
   "source": [
    "faceCascade = cv2.CascadeClassifier(cascPath)"
   ]
  },
  {
   "cell_type": "code",
   "execution_count": 6,
   "metadata": {},
   "outputs": [
    {
     "name": "stdout",
     "output_type": "stream",
     "text": [
      "[[[166 175 188]\n",
      "  [167 176 189]\n",
      "  [169 178 191]\n",
      "  ...\n",
      "  [ 53  58  43]\n",
      "  [ 53  58  43]\n",
      "  [ 53  58  43]]\n",
      "\n",
      " [[167 176 189]\n",
      "  [168 177 190]\n",
      "  [170 179 192]\n",
      "  ...\n",
      "  [ 53  58  43]\n",
      "  [ 53  58  43]\n",
      "  [ 53  58  43]]\n",
      "\n",
      " [[169 178 191]\n",
      "  [170 179 192]\n",
      "  [171 180 193]\n",
      "  ...\n",
      "  [ 53  58  43]\n",
      "  [ 53  58  43]\n",
      "  [ 53  58  43]]\n",
      "\n",
      " ...\n",
      "\n",
      " [[192 197 182]\n",
      "  [192 197 182]\n",
      "  [192 197 182]\n",
      "  ...\n",
      "  [ 16  21   6]\n",
      "  [ 16  21   6]\n",
      "  [ 16  21   6]]\n",
      "\n",
      " [[186 191 176]\n",
      "  [186 191 176]\n",
      "  [186 191 176]\n",
      "  ...\n",
      "  [ 16  21   6]\n",
      "  [ 16  21   6]\n",
      "  [ 16  21   6]]\n",
      "\n",
      " [[183 188 173]\n",
      "  [183 188 173]\n",
      "  [183 188 173]\n",
      "  ...\n",
      "  [ 16  21   6]\n",
      "  [ 16  21   6]\n",
      "  [ 16  21   6]]]\n"
     ]
    }
   ],
   "source": [
    "image = cv2.imread(imagePath)\n",
    "print(image)\n"
   ]
  },
  {
   "cell_type": "code",
   "execution_count": 7,
   "metadata": {},
   "outputs": [],
   "source": [
    "\n",
    "gray = cv2.cvtColor(image, cv2.COLOR_BGR2GRAY)"
   ]
  },
  {
   "cell_type": "code",
   "execution_count": 8,
   "metadata": {},
   "outputs": [],
   "source": [
    "faces = faceCascade.detectMultiScale(gray)\n"
   ]
  },
  {
   "cell_type": "code",
   "execution_count": 9,
   "metadata": {},
   "outputs": [],
   "source": [
    "# import cv2\n",
    "\n",
    "# # Load the cascade classifier for face detection\n",
    "# faceCascade = cv2.CascadeClassifier('haarcascade_frontalface_default.xml')\n",
    "\n",
    "# # Check if the cascade classifier was loaded successfully\n",
    "# if faceCascade.empty():\n",
    "#     print(\"Error: Unable to load the cascade classifier.\")\n",
    "# else:\n",
    "#     # Proceed with face detection\n",
    "#     faces = faceCascade.detectMultiScale(gray)"
   ]
  },
  {
   "cell_type": "code",
   "execution_count": 10,
   "metadata": {},
   "outputs": [
    {
     "data": {
      "text/plain": [
       "array([[256, 110, 131, 131],\n",
       "       [ 75, 163,  97,  97],\n",
       "       [408,  98, 168, 168]])"
      ]
     },
     "execution_count": 10,
     "metadata": {},
     "output_type": "execute_result"
    }
   ],
   "source": [
    "faces"
   ]
  },
  {
   "cell_type": "code",
   "execution_count": 11,
   "metadata": {},
   "outputs": [],
   "source": [
    "x, y, w, h = faces[0]"
   ]
  },
  {
   "cell_type": "code",
   "execution_count": 12,
   "metadata": {},
   "outputs": [
    {
     "data": {
      "text/plain": [
       "array([[[166, 175, 188],\n",
       "        [167, 176, 189],\n",
       "        [169, 178, 191],\n",
       "        ...,\n",
       "        [ 53,  58,  43],\n",
       "        [ 53,  58,  43],\n",
       "        [ 53,  58,  43]],\n",
       "\n",
       "       [[167, 176, 189],\n",
       "        [168, 177, 190],\n",
       "        [170, 179, 192],\n",
       "        ...,\n",
       "        [ 53,  58,  43],\n",
       "        [ 53,  58,  43],\n",
       "        [ 53,  58,  43]],\n",
       "\n",
       "       [[169, 178, 191],\n",
       "        [170, 179, 192],\n",
       "        [171, 180, 193],\n",
       "        ...,\n",
       "        [ 53,  58,  43],\n",
       "        [ 53,  58,  43],\n",
       "        [ 53,  58,  43]],\n",
       "\n",
       "       ...,\n",
       "\n",
       "       [[192, 197, 182],\n",
       "        [192, 197, 182],\n",
       "        [192, 197, 182],\n",
       "        ...,\n",
       "        [ 16,  21,   6],\n",
       "        [ 16,  21,   6],\n",
       "        [ 16,  21,   6]],\n",
       "\n",
       "       [[186, 191, 176],\n",
       "        [186, 191, 176],\n",
       "        [186, 191, 176],\n",
       "        ...,\n",
       "        [ 16,  21,   6],\n",
       "        [ 16,  21,   6],\n",
       "        [ 16,  21,   6]],\n",
       "\n",
       "       [[183, 188, 173],\n",
       "        [183, 188, 173],\n",
       "        [183, 188, 173],\n",
       "        ...,\n",
       "        [ 16,  21,   6],\n",
       "        [ 16,  21,   6],\n",
       "        [ 16,  21,   6]]], dtype=uint8)"
      ]
     },
     "execution_count": 12,
     "metadata": {},
     "output_type": "execute_result"
    }
   ],
   "source": [
    "cv2.rectangle(image, (x, y), (x+w, y+h), (0, 255, 0), 2)"
   ]
  },
  {
   "cell_type": "code",
   "execution_count": 13,
   "metadata": {},
   "outputs": [
    {
     "data": {
      "text/plain": [
       "-1"
      ]
     },
     "execution_count": 13,
     "metadata": {},
     "output_type": "execute_result"
    }
   ],
   "source": [
    "cv2.imshow(\"Faces found\", image)\n",
    "cv2.waitKey(0) "
   ]
  },
  {
   "cell_type": "code",
   "execution_count": 17,
   "metadata": {},
   "outputs": [
    {
     "name": "stdout",
     "output_type": "stream",
     "text": [
      "There are 3 faces found.\n"
     ]
    },
    {
     "data": {
      "text/plain": [
       "-1"
      ]
     },
     "execution_count": 17,
     "metadata": {},
     "output_type": "execute_result"
    }
   ],
   "source": [
    "\n",
    "imagePath = r'img3.jpg'\n",
    "cascPath = \"haarcascade_frontalface_default.xml\"\n",
    "image = cv2.imread(imagePath)\n",
    "gray = cv2.cvtColor(image, cv2.COLOR_BGR2GRAY)\n",
    "faceCascade = cv2.CascadeClassifier(cascPath)\n",
    "faces = faceCascade.detectMultiScale(gray)\n",
    "print(f'There are {len(faces)} faces found.')\n",
    "for (x, y, w, h) in faces:\n",
    " cv2.rectangle(image, (x, y), (x+w, y+h), (0, 255, 0), 2)\n",
    "cv2.imshow(\"Faces found\", image)\n",
    "cv2.waitKey(0) "
   ]
  },
  {
   "cell_type": "code",
   "execution_count": null,
   "metadata": {},
   "outputs": [],
   "source": []
  }
 ],
 "metadata": {
  "kernelspec": {
   "display_name": "Python 3",
   "language": "python",
   "name": "python3"
  },
  "language_info": {
   "codemirror_mode": {
    "name": "ipython",
    "version": 3
   },
   "file_extension": ".py",
   "mimetype": "text/x-python",
   "name": "python",
   "nbconvert_exporter": "python",
   "pygments_lexer": "ipython3",
   "version": "3.10.6"
  }
 },
 "nbformat": 4,
 "nbformat_minor": 2
}
